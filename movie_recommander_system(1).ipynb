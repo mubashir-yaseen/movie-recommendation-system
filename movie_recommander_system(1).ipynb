{
 "cells": [
  {
   "cell_type": "code",
   "execution_count": 41,
   "id": "e2ec38a7-bb86-44d8-b6e0-c6d830edd167",
   "metadata": {},
   "outputs": [],
   "source": [
    "# This Python 3 environment comes with many helpful analytics libraries installed\n",
    "# It is defined by the kaggle/python Docker image: https://github.com/kaggle/docker-python\n",
    "# For example, here's several helpful packages to load\n",
    "\n",
    "\n",
    "\n",
    "import numpy as np # linear algebra\n",
    "import pandas as pd # data processing, CSV file I/O (e.g. pd.read_csv)\n",
    "\n",
    "# Input data files are available in the read-only \"../input/\" directory\n",
    "# For example, running this (by clicking run or pressing Shift+Enter) will list all files under the input directory\n",
    "\n",
    "import os\n",
    "for dirname, _, filenames in os.walk('/kaggle/input'):\n",
    "    for filename in filenames:\n",
    "        print(os.path.join(dirname, filename))\n",
    "\n",
    "# You can write up to 20GB to the current directory (/kaggle/working/) that gets preserved as output when you create a version using \"Save & Run All\" \n",
    "# You can also write temporary files to /kaggle/temp/, but they won't be saved outside of the current session"
   ]
  },
  {
   "cell_type": "code",
   "execution_count": null,
   "id": "e55b02d4-216a-4938-bfa8-4a76c2d1ae4a",
   "metadata": {},
   "outputs": [],
   "source": [
    "movies = pd.read_csv('https://drive.usercontent.google.com/download?id=1sWZv40lIS6ZDDmonyZIleBUnEiAzKsMs&export=download')\n",
    "credits = pd.read_csv('https://drive.usercontent.google.com/download?id=1BtFB-nqVYFemGQERhDfc6KN45ver6hhY&export=download')"
   ]
  },
  {
   "cell_type": "code",
   "execution_count": null,
   "id": "8668d6e5-aeb0-42c5-be42-cafbf37405e6",
   "metadata": {},
   "outputs": [],
   "source": [
    "movies.head(2)"
   ]
  },
  {
   "cell_type": "code",
   "execution_count": null,
   "id": "5f5e5be4-d7d8-4f36-a322-45b6b3bddc77",
   "metadata": {},
   "outputs": [],
   "source": [
    "movies.shape"
   ]
  },
  {
   "cell_type": "code",
   "execution_count": null,
   "id": "5f2be119-00b4-4202-ba8d-33b634da802e",
   "metadata": {},
   "outputs": [],
   "source": [
    "credits.head()"
   ]
  },
  {
   "cell_type": "code",
   "execution_count": null,
   "id": "b49a16bf-ab47-404c-b555-cb68bf7b7ed9",
   "metadata": {},
   "outputs": [],
   "source": [
    "movies = movies.merge(credits,on='title')"
   ]
  },
  {
   "cell_type": "code",
   "execution_count": null,
   "id": "d7c45743-cb0b-4ed5-8d7b-08f76bb700bd",
   "metadata": {},
   "outputs": [],
   "source": [
    "movies.head()\n",
    "# budget\n",
    "# homepage\n",
    "# id\n",
    "# original_language\n",
    "# original_title\n",
    "# popularity\n",
    "# production_comapny\n",
    "# production_countries\n",
    "# release-date(not sure)"
   ]
  },
  {
   "cell_type": "code",
   "execution_count": null,
   "id": "e4eea234-6884-4ea1-a3cc-745e6607dc08",
   "metadata": {},
   "outputs": [],
   "source": [
    "movies = movies[['movie_id','title','overview','genres','keywords','cast','crew']]"
   ]
  },
  {
   "cell_type": "code",
   "execution_count": null,
   "id": "f3a14d18-7274-4c1a-906b-7ced03280232",
   "metadata": {},
   "outputs": [],
   "source": [
    "movies.head()"
   ]
  },
  {
   "cell_type": "code",
   "execution_count": null,
   "id": "7b750c0f-9293-4807-84b6-1032983ac704",
   "metadata": {},
   "outputs": [],
   "source": [
    "import ast"
   ]
  },
  {
   "cell_type": "code",
   "execution_count": null,
   "id": "20894bed-7a9a-48de-8c29-44832cc793ec",
   "metadata": {},
   "outputs": [],
   "source": [
    "def convert(text):\n",
    "    L = []\n",
    "    for i in ast.literal_eval(text):\n",
    "        L.append(i['name']) \n",
    "    return L "
   ]
  },
  {
   "cell_type": "code",
   "execution_count": null,
   "id": "38c9ecae-dd62-4ee9-a4d2-03ec8cb96be3",
   "metadata": {},
   "outputs": [],
   "source": [
    "movies.dropna(inplace=True)"
   ]
  },
  {
   "cell_type": "code",
   "execution_count": null,
   "id": "a3826709-f4a5-4a0a-ae0d-49db1efd550a",
   "metadata": {},
   "outputs": [],
   "source": [
    "movies['genres'] = movies['genres'].apply(convert)\n",
    "movies.head()"
   ]
  },
  {
   "cell_type": "code",
   "execution_count": null,
   "id": "d8bb23d3-d170-49b4-b86f-28f895eb4a2b",
   "metadata": {},
   "outputs": [],
   "source": [
    "movies['keywords'] = movies['keywords'].apply(convert)\n",
    "movies.head()"
   ]
  },
  {
   "cell_type": "code",
   "execution_count": null,
   "id": "68588e3f-8700-40d2-a847-5cf5e80e8e42",
   "metadata": {},
   "outputs": [],
   "source": [
    "import ast\n",
    "ast.literal_eval('[{\"id\": 28, \"name\": \"Action\"}, {\"id\": 12, \"name\": \"Adventure\"}, {\"id\": 14, \"name\": \"Fantasy\"}, {\"id\": 878, \"name\": \"Science Fiction\"}]')"
   ]
  },
  {
   "cell_type": "code",
   "execution_count": null,
   "id": "99550c55-ee5b-41fe-88b1-3d744fda4f83",
   "metadata": {},
   "outputs": [],
   "source": [
    "def convert3(text):\n",
    "    L = []\n",
    "    counter = 0\n",
    "    for i in ast.literal_eval(text):\n",
    "        if counter < 3:\n",
    "            L.append(i['name'])\n",
    "        counter+=1\n",
    "    return L "
   ]
  },
  {
   "cell_type": "code",
   "execution_count": null,
   "id": "e6fe9c31-55d0-436f-a2d4-7d494e81de8e",
   "metadata": {},
   "outputs": [],
   "source": [
    "movies['cast'] = movies['cast'].apply(convert)\n",
    "movies.head()"
   ]
  },
  {
   "cell_type": "code",
   "execution_count": null,
   "id": "bc7755bd-6e3d-4050-bfa2-f71499060b54",
   "metadata": {},
   "outputs": [],
   "source": [
    "movies['cast'] = movies['cast'].apply(lambda x:x[0:3])"
   ]
  },
  {
   "cell_type": "code",
   "execution_count": null,
   "id": "6ee82c02-2239-4e1e-a316-68e59194e3e9",
   "metadata": {},
   "outputs": [],
   "source": [
    "def fetch_director(text):\n",
    "    L = []\n",
    "    for i in ast.literal_eval(text):\n",
    "        if i['job'] == 'Director':\n",
    "            L.append(i['name'])\n",
    "    return L "
   ]
  },
  {
   "cell_type": "code",
   "execution_count": null,
   "id": "f38cc311-b6b0-4b75-843d-01863abf61cd",
   "metadata": {},
   "outputs": [],
   "source": [
    "movies['crew'] = movies['crew'].apply(fetch_director)"
   ]
  },
  {
   "cell_type": "code",
   "execution_count": null,
   "id": "f93c70d2-291e-4971-9096-5df4493260eb",
   "metadata": {},
   "outputs": [],
   "source": [
    "#movies['overview'] = movies['overview'].apply(lambda x:x.split())\n",
    "movies.sample(5)"
   ]
  },
  {
   "cell_type": "code",
   "execution_count": null,
   "id": "25341f9b-b105-498b-a6a9-dae533c090a6",
   "metadata": {},
   "outputs": [],
   "source": [
    "def collapse(L):\n",
    "    L1 = []\n",
    "    for i in L:\n",
    "        L1.append(i.replace(\" \",\"\"))\n",
    "    return L1"
   ]
  },
  {
   "cell_type": "code",
   "execution_count": null,
   "id": "3d68c638-6fb8-4cbf-84a6-bdcab676c8fa",
   "metadata": {},
   "outputs": [],
   "source": [
    "movies['cast'] = movies['cast'].apply(collapse)\n",
    "movies['crew'] = movies['crew'].apply(collapse)\n",
    "movies['genres'] = movies['genres'].apply(collapse)\n",
    "movies['keywords'] = movies['keywords'].apply(collapse)"
   ]
  },
  {
   "cell_type": "code",
   "execution_count": null,
   "id": "36ce121e-1660-45e7-928e-89cc2765ffb5",
   "metadata": {},
   "outputs": [],
   "source": [
    "movies.head()"
   ]
  },
  {
   "cell_type": "code",
   "execution_count": null,
   "id": "9b1e935f-a12b-44e7-b390-57bf1b867b1b",
   "metadata": {},
   "outputs": [],
   "source": [
    "movies['overview'] = movies['overview'].apply(lambda x:x.split())"
   ]
  },
  {
   "cell_type": "code",
   "execution_count": null,
   "id": "f37a94c6-d36a-44f8-9b26-e99d54a30047",
   "metadata": {},
   "outputs": [],
   "source": [
    "movies['tags'] = movies['overview'] + movies['genres'] + movies['keywords'] + movies['cast'] + movies['crew']"
   ]
  },
  {
   "cell_type": "code",
   "execution_count": null,
   "id": "9ff81de7-e995-46a0-bb4d-d04cf4388c96",
   "metadata": {},
   "outputs": [],
   "source": [
    "new = movies.drop(columns=['overview','genres','keywords','cast','crew'])\n",
    "#new.head()"
   ]
  },
  {
   "cell_type": "code",
   "execution_count": null,
   "id": "9962bfc6-3a71-4612-acd7-89deeea92906",
   "metadata": {},
   "outputs": [],
   "source": [
    "new['tags'] = new['tags'].apply(lambda x: \" \".join(x))\n",
    "new.head()"
   ]
  },
  {
   "cell_type": "code",
   "execution_count": null,
   "id": "775f1c80-0e9f-48be-b63b-d64b1d58b8ed",
   "metadata": {},
   "outputs": [],
   "source": [
    "!pip install scikit-learn"
   ]
  },
  {
   "cell_type": "code",
   "execution_count": null,
   "id": "4a699de9-51dd-4754-97af-16d965084713",
   "metadata": {},
   "outputs": [],
   "source": [
    "from sklearn.feature_extraction.text import CountVectorizer\n",
    "cv = CountVectorizer(max_features=5000,stop_words='english')\n",
    "  "
   ]
  },
  {
   "cell_type": "code",
   "execution_count": null,
   "id": "19a9b1d8-0778-4c91-a40a-192302612e7f",
   "metadata": {},
   "outputs": [],
   "source": [
    "vector = cv.fit_transform(new['tags']).toarray()"
   ]
  },
  {
   "cell_type": "code",
   "execution_count": null,
   "id": "0dfb8f0d-276d-4b77-b242-6a943a55c6df",
   "metadata": {},
   "outputs": [],
   "source": [
    "vector.shape"
   ]
  },
  {
   "cell_type": "code",
   "execution_count": null,
   "id": "0d92138d-5207-4f5a-b124-d9557b09f868",
   "metadata": {},
   "outputs": [],
   "source": [
    "from sklearn.metrics.pairwise import cosine_similarity"
   ]
  },
  {
   "cell_type": "code",
   "execution_count": null,
   "id": "b19c1a38-20d7-4227-b022-55793f95ca0c",
   "metadata": {},
   "outputs": [],
   "source": [
    "similarity = cosine_similarity(vector)"
   ]
  },
  {
   "cell_type": "code",
   "execution_count": null,
   "id": "8183d21d-2afc-4505-8bfa-5b1167f923e7",
   "metadata": {},
   "outputs": [],
   "source": [
    "similarity"
   ]
  },
  {
   "cell_type": "code",
   "execution_count": null,
   "id": "fcabfbe4-2cb8-4dea-b6ec-acee4ed95dea",
   "metadata": {},
   "outputs": [],
   "source": [
    "new[new['title'] == 'The Lego Movie'].index[0]"
   ]
  },
  {
   "cell_type": "code",
   "execution_count": null,
   "id": "f88656bb-f1df-470c-888e-ec8e5396b199",
   "metadata": {},
   "outputs": [],
   "source": [
    "def recommend(movie):\n",
    "    index = new[new['title'] == movie].index[0]\n",
    "    distances = sorted(list(enumerate(similarity[index])),reverse=True,key = lambda x: x[1])\n",
    "    for i in distances[1:6]:\n",
    "        print(new.iloc[i[0]].title)\n",
    "        \n",
    "    "
   ]
  },
  {
   "cell_type": "code",
   "execution_count": null,
   "id": "53735912-eaaa-4427-819e-e17cf0f073c4",
   "metadata": {},
   "outputs": [],
   "source": [
    "recommend('Gandhi')"
   ]
  },
  {
   "cell_type": "code",
   "execution_count": null,
   "id": "8e4452f6-7ef7-4b8b-a454-5966c71c2002",
   "metadata": {},
   "outputs": [],
   "source": [
    "import pickle"
   ]
  },
  {
   "cell_type": "code",
   "execution_count": null,
   "id": "d2d689f8-5d1a-41b0-a0de-239ceebeaa95",
   "metadata": {},
   "outputs": [],
   "source": [
    "pickle.dump(new,open('movie_list.pkl','wb'))\n",
    "pickle.dump(similarity,open('similarity.pkl','wb'))"
   ]
  },
  {
   "cell_type": "code",
   "execution_count": null,
   "id": "2ade821e-aff8-4358-8ec0-8df101cbbc2d",
   "metadata": {},
   "outputs": [],
   "source": [
    "'''\n",
    "import zipfile\n",
    "\n",
    "# Specify the file to compress and the name of the ZIP archive\n",
    "file_to_compress = 'similarity.pkl'\n",
    "zip_archive_name = 'similarity.zip'\n",
    "\n",
    "# Create a ZIP archive and add the file to it\n",
    "with zipfile.ZipFile(zip_archive_name, 'w') as zipf:\n",
    "    zipf.write(file_to_compress)\n",
    "\n",
    "print(f'{file_to_compress} has been compressed into {zip_archive_name}')\n",
    "'''"
   ]
  }
 ],
 "metadata": {
  "kernelspec": {
   "display_name": "Python 3 (ipykernel)",
   "language": "python",
   "name": "python3"
  },
  "language_info": {
   "codemirror_mode": {
    "name": "ipython",
    "version": 3
   },
   "file_extension": ".py",
   "mimetype": "text/x-python",
   "name": "python",
   "nbconvert_exporter": "python",
   "pygments_lexer": "ipython3",
   "version": "3.12.2"
  }
 },
 "nbformat": 4,
 "nbformat_minor": 5
}
